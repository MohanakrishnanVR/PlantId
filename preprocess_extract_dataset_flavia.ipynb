{
  "nbformat": 4,
  "nbformat_minor": 0,
  "metadata": {
    "kernelspec": {
      "display_name": "Python 3",
      "language": "python",
      "name": "python3"
    },
    "language_info": {
      "codemirror_mode": {
        "name": "ipython",
        "version": 3
      },
      "file_extension": ".py",
      "mimetype": "text/x-python",
      "name": "python",
      "nbconvert_exporter": "python",
      "pygments_lexer": "ipython3",
      "version": "3.6.1"
    },
    "colab": {
      "name": "preprocess_extract_dataset_flavia.ipynb",
      "provenance": [],
      "collapsed_sections": [],
      "include_colab_link": true
    }
  },
  "cells": [
    {
      "cell_type": "markdown",
      "metadata": {
        "id": "view-in-github",
        "colab_type": "text"
      },
      "source": [
        "<a href=\"https://colab.research.google.com/github/vizhnu/PlantId/blob/master/preprocess_extract_dataset_flavia.ipynb\" target=\"_parent\"><img src=\"https://colab.research.google.com/assets/colab-badge.svg\" alt=\"Open In Colab\"/></a>"
      ]
    },
    {
      "cell_type": "markdown",
      "metadata": {
        "id": "admiwH2L8WlO",
        "colab_type": "text"
      },
      "source": [
        "# Preprocess and Feature Extraction - Flavia dataset\n",
        "\n",
        "Extracted features are saved in file named \"Flavia_features.csv\""
      ]
    },
    {
      "cell_type": "code",
      "metadata": {
        "id": "62vXB_KB8l2a",
        "colab_type": "code",
        "outputId": "cc0570eb-38ea-47a9-c20b-8580136775ec",
        "colab": {
          "base_uri": "https://localhost:8080/",
          "height": 235
        }
      },
      "source": [
        "pip install mahotas"
      ],
      "execution_count": 0,
      "outputs": [
        {
          "output_type": "stream",
          "text": [
            "Collecting mahotas\n",
            "\u001b[?25l  Downloading https://files.pythonhosted.org/packages/84/74/bd38163462eb346519f36dc205f0a52a01fb372c7bbcc87392c9b21cfe26/mahotas-1.4.9.tar.gz (1.5MB)\n",
            "\r\u001b[K     |▏                               | 10kB 17.3MB/s eta 0:00:01\r\u001b[K     |▍                               | 20kB 1.7MB/s eta 0:00:01\r\u001b[K     |▋                               | 30kB 2.2MB/s eta 0:00:01\r\u001b[K     |▉                               | 40kB 1.6MB/s eta 0:00:01\r\u001b[K     |█                               | 51kB 1.8MB/s eta 0:00:01\r\u001b[K     |█▎                              | 61kB 2.2MB/s eta 0:00:01\r\u001b[K     |█▌                              | 71kB 2.3MB/s eta 0:00:01\r\u001b[K     |█▊                              | 81kB 2.5MB/s eta 0:00:01\r\u001b[K     |██                              | 92kB 2.8MB/s eta 0:00:01\r\u001b[K     |██▏                             | 102kB 2.6MB/s eta 0:00:01\r\u001b[K     |██▍                             | 112kB 2.6MB/s eta 0:00:01\r\u001b[K     |██▋                             | 122kB 2.6MB/s eta 0:00:01\r\u001b[K     |██▉                             | 133kB 2.6MB/s eta 0:00:01\r\u001b[K     |███                             | 143kB 2.6MB/s eta 0:00:01\r\u001b[K     |███▏                            | 153kB 2.6MB/s eta 0:00:01\r\u001b[K     |███▍                            | 163kB 2.6MB/s eta 0:00:01\r\u001b[K     |███▋                            | 174kB 2.6MB/s eta 0:00:01\r\u001b[K     |███▉                            | 184kB 2.6MB/s eta 0:00:01\r\u001b[K     |████                            | 194kB 2.6MB/s eta 0:00:01\r\u001b[K     |████▎                           | 204kB 2.6MB/s eta 0:00:01\r\u001b[K     |████▌                           | 215kB 2.6MB/s eta 0:00:01\r\u001b[K     |████▊                           | 225kB 2.6MB/s eta 0:00:01\r\u001b[K     |█████                           | 235kB 2.6MB/s eta 0:00:01\r\u001b[K     |█████▏                          | 245kB 2.6MB/s eta 0:00:01\r\u001b[K     |█████▍                          | 256kB 2.6MB/s eta 0:00:01\r\u001b[K     |█████▋                          | 266kB 2.6MB/s eta 0:00:01\r\u001b[K     |█████▊                          | 276kB 2.6MB/s eta 0:00:01\r\u001b[K     |██████                          | 286kB 2.6MB/s eta 0:00:01\r\u001b[K     |██████▏                         | 296kB 2.6MB/s eta 0:00:01\r\u001b[K     |██████▍                         | 307kB 2.6MB/s eta 0:00:01\r\u001b[K     |██████▋                         | 317kB 2.6MB/s eta 0:00:01\r\u001b[K     |██████▉                         | 327kB 2.6MB/s eta 0:00:01\r\u001b[K     |███████                         | 337kB 2.6MB/s eta 0:00:01\r\u001b[K     |███████▎                        | 348kB 2.6MB/s eta 0:00:01\r\u001b[K     |███████▌                        | 358kB 2.6MB/s eta 0:00:01\r\u001b[K     |███████▊                        | 368kB 2.6MB/s eta 0:00:01\r\u001b[K     |████████                        | 378kB 2.6MB/s eta 0:00:01\r\u001b[K     |████████▏                       | 389kB 2.6MB/s eta 0:00:01\r\u001b[K     |████████▍                       | 399kB 2.6MB/s eta 0:00:01\r\u001b[K     |████████▋                       | 409kB 2.6MB/s eta 0:00:01\r\u001b[K     |████████▊                       | 419kB 2.6MB/s eta 0:00:01\r\u001b[K     |█████████                       | 430kB 2.6MB/s eta 0:00:01\r\u001b[K     |█████████▏                      | 440kB 2.6MB/s eta 0:00:01\r\u001b[K     |█████████▍                      | 450kB 2.6MB/s eta 0:00:01\r\u001b[K     |█████████▋                      | 460kB 2.6MB/s eta 0:00:01\r\u001b[K     |█████████▉                      | 471kB 2.6MB/s eta 0:00:01\r\u001b[K     |██████████                      | 481kB 2.6MB/s eta 0:00:01\r\u001b[K     |██████████▎                     | 491kB 2.6MB/s eta 0:00:01\r\u001b[K     |██████████▌                     | 501kB 2.6MB/s eta 0:00:01\r\u001b[K     |██████████▊                     | 512kB 2.6MB/s eta 0:00:01\r\u001b[K     |███████████                     | 522kB 2.6MB/s eta 0:00:01\r\u001b[K     |███████████▏                    | 532kB 2.6MB/s eta 0:00:01\r\u001b[K     |███████████▍                    | 542kB 2.6MB/s eta 0:00:01\r\u001b[K     |███████████▌                    | 552kB 2.6MB/s eta 0:00:01\r\u001b[K     |███████████▊                    | 563kB 2.6MB/s eta 0:00:01\r\u001b[K     |████████████                    | 573kB 2.6MB/s eta 0:00:01\r\u001b[K     |████████████▏                   | 583kB 2.6MB/s eta 0:00:01\r\u001b[K     |████████████▍                   | 593kB 2.6MB/s eta 0:00:01\r\u001b[K     |████████████▋                   | 604kB 2.6MB/s eta 0:00:01\r\u001b[K     |████████████▉                   | 614kB 2.6MB/s eta 0:00:01\r\u001b[K     |█████████████                   | 624kB 2.6MB/s eta 0:00:01\r\u001b[K     |█████████████▎                  | 634kB 2.6MB/s eta 0:00:01\r\u001b[K     |█████████████▌                  | 645kB 2.6MB/s eta 0:00:01\r\u001b[K     |█████████████▊                  | 655kB 2.6MB/s eta 0:00:01\r\u001b[K     |██████████████                  | 665kB 2.6MB/s eta 0:00:01\r\u001b[K     |██████████████▏                 | 675kB 2.6MB/s eta 0:00:01\r\u001b[K     |██████████████▍                 | 686kB 2.6MB/s eta 0:00:01\r\u001b[K     |██████████████▌                 | 696kB 2.6MB/s eta 0:00:01\r\u001b[K     |██████████████▊                 | 706kB 2.6MB/s eta 0:00:01\r\u001b[K     |███████████████                 | 716kB 2.6MB/s eta 0:00:01\r\u001b[K     |███████████████▏                | 727kB 2.6MB/s eta 0:00:01\r\u001b[K     |███████████████▍                | 737kB 2.6MB/s eta 0:00:01\r\u001b[K     |███████████████▋                | 747kB 2.6MB/s eta 0:00:01\r\u001b[K     |███████████████▉                | 757kB 2.6MB/s eta 0:00:01\r\u001b[K     |████████████████                | 768kB 2.6MB/s eta 0:00:01\r\u001b[K     |████████████████▎               | 778kB 2.6MB/s eta 0:00:01\r\u001b[K     |████████████████▌               | 788kB 2.6MB/s eta 0:00:01\r\u001b[K     |████████████████▊               | 798kB 2.6MB/s eta 0:00:01\r\u001b[K     |█████████████████               | 808kB 2.6MB/s eta 0:00:01\r\u001b[K     |█████████████████▏              | 819kB 2.6MB/s eta 0:00:01\r\u001b[K     |█████████████████▎              | 829kB 2.6MB/s eta 0:00:01\r\u001b[K     |█████████████████▌              | 839kB 2.6MB/s eta 0:00:01\r\u001b[K     |█████████████████▊              | 849kB 2.6MB/s eta 0:00:01\r\u001b[K     |██████████████████              | 860kB 2.6MB/s eta 0:00:01\r\u001b[K     |██████████████████▏             | 870kB 2.6MB/s eta 0:00:01\r\u001b[K     |██████████████████▍             | 880kB 2.6MB/s eta 0:00:01\r\u001b[K     |██████████████████▋             | 890kB 2.6MB/s eta 0:00:01\r\u001b[K     |██████████████████▉             | 901kB 2.6MB/s eta 0:00:01\r\u001b[K     |███████████████████             | 911kB 2.6MB/s eta 0:00:01\r\u001b[K     |███████████████████▎            | 921kB 2.6MB/s eta 0:00:01\r\u001b[K     |███████████████████▌            | 931kB 2.6MB/s eta 0:00:01\r\u001b[K     |███████████████████▊            | 942kB 2.6MB/s eta 0:00:01\r\u001b[K     |████████████████████            | 952kB 2.6MB/s eta 0:00:01\r\u001b[K     |████████████████████▏           | 962kB 2.6MB/s eta 0:00:01\r\u001b[K     |████████████████████▎           | 972kB 2.6MB/s eta 0:00:01\r\u001b[K     |████████████████████▌           | 983kB 2.6MB/s eta 0:00:01\r\u001b[K     |████████████████████▊           | 993kB 2.6MB/s eta 0:00:01\r\u001b[K     |█████████████████████           | 1.0MB 2.6MB/s eta 0:00:01\r\u001b[K     |█████████████████████▏          | 1.0MB 2.6MB/s eta 0:00:01\r\u001b[K     |█████████████████████▍          | 1.0MB 2.6MB/s eta 0:00:01\r\u001b[K     |█████████████████████▋          | 1.0MB 2.6MB/s eta 0:00:01\r\u001b[K     |█████████████████████▉          | 1.0MB 2.6MB/s eta 0:00:01\r\u001b[K     |██████████████████████          | 1.1MB 2.6MB/s eta 0:00:01\r\u001b[K     |██████████████████████▎         | 1.1MB 2.6MB/s eta 0:00:01\r\u001b[K     |██████████████████████▌         | 1.1MB 2.6MB/s eta 0:00:01\r\u001b[K     |██████████████████████▊         | 1.1MB 2.6MB/s eta 0:00:01\r\u001b[K     |███████████████████████         | 1.1MB 2.6MB/s eta 0:00:01\r\u001b[K     |███████████████████████         | 1.1MB 2.6MB/s eta 0:00:01\r\u001b[K     |███████████████████████▎        | 1.1MB 2.6MB/s eta 0:00:01\r\u001b[K     |███████████████████████▌        | 1.1MB 2.6MB/s eta 0:00:01\r\u001b[K     |███████████████████████▊        | 1.1MB 2.6MB/s eta 0:00:01\r\u001b[K     |████████████████████████        | 1.1MB 2.6MB/s eta 0:00:01\r\u001b[K     |████████████████████████▏       | 1.2MB 2.6MB/s eta 0:00:01\r\u001b[K     |████████████████████████▍       | 1.2MB 2.6MB/s eta 0:00:01\r\u001b[K     |████████████████████████▋       | 1.2MB 2.6MB/s eta 0:00:01\r\u001b[K     |████████████████████████▉       | 1.2MB 2.6MB/s eta 0:00:01\r\u001b[K     |█████████████████████████       | 1.2MB 2.6MB/s eta 0:00:01\r\u001b[K     |█████████████████████████▎      | 1.2MB 2.6MB/s eta 0:00:01\r\u001b[K     |█████████████████████████▌      | 1.2MB 2.6MB/s eta 0:00:01\r\u001b[K     |█████████████████████████▊      | 1.2MB 2.6MB/s eta 0:00:01\r\u001b[K     |█████████████████████████▉      | 1.2MB 2.6MB/s eta 0:00:01\r\u001b[K     |██████████████████████████      | 1.2MB 2.6MB/s eta 0:00:01\r\u001b[K     |██████████████████████████▎     | 1.3MB 2.6MB/s eta 0:00:01\r\u001b[K     |██████████████████████████▌     | 1.3MB 2.6MB/s eta 0:00:01\r\u001b[K     |██████████████████████████▊     | 1.3MB 2.6MB/s eta 0:00:01\r\u001b[K     |███████████████████████████     | 1.3MB 2.6MB/s eta 0:00:01\r\u001b[K     |███████████████████████████▏    | 1.3MB 2.6MB/s eta 0:00:01\r\u001b[K     |███████████████████████████▍    | 1.3MB 2.6MB/s eta 0:00:01\r\u001b[K     |███████████████████████████▋    | 1.3MB 2.6MB/s eta 0:00:01\r\u001b[K     |███████████████████████████▉    | 1.3MB 2.6MB/s eta 0:00:01\r\u001b[K     |████████████████████████████    | 1.3MB 2.6MB/s eta 0:00:01\r\u001b[K     |████████████████████████████▎   | 1.4MB 2.6MB/s eta 0:00:01\r\u001b[K     |████████████████████████████▌   | 1.4MB 2.6MB/s eta 0:00:01\r\u001b[K     |████████████████████████████▊   | 1.4MB 2.6MB/s eta 0:00:01\r\u001b[K     |████████████████████████████▉   | 1.4MB 2.6MB/s eta 0:00:01\r\u001b[K     |█████████████████████████████   | 1.4MB 2.6MB/s eta 0:00:01\r\u001b[K     |█████████████████████████████▎  | 1.4MB 2.6MB/s eta 0:00:01\r\u001b[K     |█████████████████████████████▌  | 1.4MB 2.6MB/s eta 0:00:01\r\u001b[K     |█████████████████████████████▊  | 1.4MB 2.6MB/s eta 0:00:01\r\u001b[K     |██████████████████████████████  | 1.4MB 2.6MB/s eta 0:00:01\r\u001b[K     |██████████████████████████████▏ | 1.4MB 2.6MB/s eta 0:00:01\r\u001b[K     |██████████████████████████████▍ | 1.5MB 2.6MB/s eta 0:00:01\r\u001b[K     |██████████████████████████████▋ | 1.5MB 2.6MB/s eta 0:00:01\r\u001b[K     |██████████████████████████████▉ | 1.5MB 2.6MB/s eta 0:00:01\r\u001b[K     |███████████████████████████████ | 1.5MB 2.6MB/s eta 0:00:01\r\u001b[K     |███████████████████████████████▎| 1.5MB 2.6MB/s eta 0:00:01\r\u001b[K     |███████████████████████████████▌| 1.5MB 2.6MB/s eta 0:00:01\r\u001b[K     |███████████████████████████████▋| 1.5MB 2.6MB/s eta 0:00:01\r\u001b[K     |███████████████████████████████▉| 1.5MB 2.6MB/s eta 0:00:01\r\u001b[K     |████████████████████████████████| 1.5MB 2.6MB/s \n",
            "\u001b[?25hRequirement already satisfied: numpy in /usr/local/lib/python3.6/dist-packages (from mahotas) (1.17.5)\n",
            "Building wheels for collected packages: mahotas\n",
            "  Building wheel for mahotas (setup.py) ... \u001b[?25l\u001b[?25hdone\n",
            "  Created wheel for mahotas: filename=mahotas-1.4.9-cp36-cp36m-linux_x86_64.whl size=4264003 sha256=752e59606926cf8248ab66ed7be62f1e1cf1cfcbb1698dc3dd97fee61b66ceba\n",
            "  Stored in directory: /root/.cache/pip/wheels/02/e7/50/b67eee3b19c479cc5b41f10230bf9c1556be6eaaf095c6e997\n",
            "Successfully built mahotas\n",
            "Installing collected packages: mahotas\n",
            "Successfully installed mahotas-1.4.9\n"
          ],
          "name": "stdout"
        }
      ]
    },
    {
      "cell_type": "code",
      "metadata": {
        "id": "4WT7jl9X8WlR",
        "colab_type": "code",
        "colab": {}
      },
      "source": [
        "import os\n",
        "import cv2\n",
        "import numpy as np\n",
        "import pandas as pd\n",
        "import mahotas as mt\n",
        "from matplotlib import pyplot as plt\n",
        "%matplotlib inline\n",
        "import zipfile\n",
        "from google.colab import files"
      ],
      "execution_count": 0,
      "outputs": []
    },
    {
      "cell_type": "code",
      "metadata": {
        "id": "RG-BnbBgoUGi",
        "colab_type": "code",
        "outputId": "ce56c658-637f-4a8a-8e8f-9615c53f5ec8",
        "colab": {
          "base_uri": "https://localhost:8080/",
          "height": 145
        }
      },
      "source": [
        "from google.colab import drive\n",
        "drive.mount('/gdrive')\n",
        "%cd /gdrive"
      ],
      "execution_count": 0,
      "outputs": [
        {
          "output_type": "stream",
          "text": [
            "Go to this URL in a browser: https://accounts.google.com/o/oauth2/auth?client_id=947318989803-6bn6qk8qdgf4n4g3pfee6491hc0brc4i.apps.googleusercontent.com&redirect_uri=urn%3aietf%3awg%3aoauth%3a2.0%3aoob&response_type=code&scope=email%20https%3a%2f%2fwww.googleapis.com%2fauth%2fdocs.test%20https%3a%2f%2fwww.googleapis.com%2fauth%2fdrive%20https%3a%2f%2fwww.googleapis.com%2fauth%2fdrive.photos.readonly%20https%3a%2f%2fwww.googleapis.com%2fauth%2fpeopleapi.readonly\n",
            "\n",
            "Enter your authorization code:\n",
            "··········\n",
            "Mounted at /gdrive\n",
            "/gdrive\n"
          ],
          "name": "stdout"
        }
      ]
    },
    {
      "cell_type": "code",
      "metadata": {
        "id": "sU3gFsGyuHiB",
        "colab_type": "code",
        "colab": {}
      },
      "source": [
        "with zipfile.ZipFile('My Drive/LeafData.zip', 'r') as zip_ref:\n",
        "    zip_ref.extractall('/content')"
      ],
      "execution_count": 0,
      "outputs": []
    },
    {
      "cell_type": "code",
      "metadata": {
        "id": "kh7wKwlT8WlW",
        "colab_type": "code",
        "colab": {}
      },
      "source": [
        "ds_path = \"/content/LeafData\"\n",
        "img_files = os.listdir(ds_path)"
      ],
      "execution_count": 0,
      "outputs": []
    },
    {
      "cell_type": "code",
      "metadata": {
        "id": "-S7O9ka28Wla",
        "colab_type": "code",
        "colab": {}
      },
      "source": [
        "def create_dataset():\n",
        "    names = ['leafid','area','perimeter','physiological_length','physiological_width','aspect_ratio','rectangularity','circularity', \\\n",
        "             'mean_r','mean_g','mean_b','stddev_r','stddev_g','stddev_b', \\\n",
        "             'contrast','correlation','inverse_difference_moments','entropy', 'label'\n",
        "            ]\n",
        "    df = pd.DataFrame([], columns=names)\n",
        "    for folder in img_files:\n",
        "      base_folder = ds_path + '/' + folder\n",
        "      for file in os.listdir(base_folder):\n",
        "        imgpath = base_folder + '/' +file\n",
        "        main_img = cv2.imread(imgpath)\n",
        "        leafid = file\n",
        "        label = folder\n",
        "\n",
        "        #Preprocessing\n",
        "        img = cv2.cvtColor(main_img, cv2.COLOR_BGR2RGB)\n",
        "        gs = cv2.cvtColor(img,cv2.COLOR_RGB2GRAY)\n",
        "        blur = cv2.GaussianBlur(gs, (25,25),0)\n",
        "        ret_otsu,im_bw_otsu = cv2.threshold(blur,0,255,cv2.THRESH_BINARY_INV+cv2.THRESH_OTSU)\n",
        "        kernel = np.ones((50,50),np.uint8)\n",
        "        closing = cv2.morphologyEx(im_bw_otsu, cv2.MORPH_CLOSE, kernel)\n",
        "        \n",
        "        #Shape features\n",
        "        contours, image = cv2.findContours(closing,cv2.RETR_TREE,cv2.CHAIN_APPROX_SIMPLE)\n",
        "        index = 0\n",
        "        #find the biggest contour to avoid stem contours that appear sometimes\n",
        "        if len(contours) > 1:\n",
        "          list_len = [len(c) for c in contours]\n",
        "          index = list_len.index(max(list_len))\n",
        "\n",
        "        cnt = contours[index]\n",
        "        M = cv2.moments(cnt)\n",
        "        area = cv2.contourArea(cnt)\n",
        "        perimeter = cv2.arcLength(cnt,True)\n",
        "        x,y,w,h = cv2.boundingRect(cnt)\n",
        "        aspect_ratio = float(w)/h\n",
        "        rectangularity = w*h/area\n",
        "        circularity = ((perimeter)**2)/area\n",
        "        \n",
        "        #Color features\n",
        "        red_channel = img[:,:,0]\n",
        "        green_channel = img[:,:,1]\n",
        "        blue_channel = img[:,:,2]\n",
        "        blue_channel[blue_channel == 255] = 0\n",
        "        green_channel[green_channel == 255] = 0\n",
        "        red_channel[red_channel == 255] = 0\n",
        "        \n",
        "        red_mean = np.mean(red_channel)\n",
        "        green_mean = np.mean(green_channel)\n",
        "        blue_mean = np.mean(blue_channel)\n",
        "        \n",
        "        red_std = np.std(red_channel)\n",
        "        green_std = np.std(green_channel)\n",
        "        blue_std = np.std(blue_channel)\n",
        "        \n",
        "        #Texture features\n",
        "        textures = mt.features.haralick(gs)\n",
        "        ht_mean = textures.mean(axis=0)\n",
        "        contrast = ht_mean[1]\n",
        "        correlation = ht_mean[2]\n",
        "        inverse_diff_moments = ht_mean[4]\n",
        "        entropy = ht_mean[8]\n",
        "        \n",
        "        vector = [leafid,area,perimeter,w,h,aspect_ratio,rectangularity,circularity,\\\n",
        "                  red_mean,green_mean,blue_mean,red_std,green_std,blue_std,\\\n",
        "                  contrast,correlation,inverse_diff_moments,entropy, label\n",
        "                 ]\n",
        "        \n",
        "        df_temp = pd.DataFrame([vector],columns=names)\n",
        "        df = df.append(df_temp)\n",
        "        #print(file)\n",
        "    return df"
      ],
      "execution_count": 0,
      "outputs": []
    },
    {
      "cell_type": "code",
      "metadata": {
        "id": "2p7qk9Wh8Wle",
        "colab_type": "code",
        "colab": {}
      },
      "source": [
        "dataset = create_dataset()"
      ],
      "execution_count": 0,
      "outputs": []
    },
    {
      "cell_type": "code",
      "metadata": {
        "id": "JLVZNFxV8Wlj",
        "colab_type": "code",
        "outputId": "2ca1b92d-64c0-4d22-eb5e-6ccab8d23a2f",
        "colab": {
          "base_uri": "https://localhost:8080/",
          "height": 35
        }
      },
      "source": [
        "dataset.shape"
      ],
      "execution_count": 0,
      "outputs": [
        {
          "output_type": "execute_result",
          "data": {
            "text/plain": [
              "(300, 19)"
            ]
          },
          "metadata": {
            "tags": []
          },
          "execution_count": 11
        }
      ]
    },
    {
      "cell_type": "code",
      "metadata": {
        "id": "w5LYy5lf8Wlm",
        "colab_type": "code",
        "outputId": "1a6aee08-508c-42e2-f06b-87ce669ccca9",
        "colab": {
          "base_uri": "https://localhost:8080/",
          "height": 35
        }
      },
      "source": [
        "type(dataset)"
      ],
      "execution_count": 0,
      "outputs": [
        {
          "output_type": "execute_result",
          "data": {
            "text/plain": [
              "pandas.core.frame.DataFrame"
            ]
          },
          "metadata": {
            "tags": []
          },
          "execution_count": 12
        }
      ]
    },
    {
      "cell_type": "code",
      "metadata": {
        "id": "aufkPz4K8Wlr",
        "colab_type": "code",
        "colab": {}
      },
      "source": [
        "dataset.to_csv(\"/content/LeafFeatures.csv\")"
      ],
      "execution_count": 0,
      "outputs": []
    },
    {
      "cell_type": "code",
      "metadata": {
        "id": "dG5C0prKk9XN",
        "colab_type": "code",
        "outputId": "d95a76b8-e765-4652-da37-eb743d6453ec",
        "colab": {
          "base_uri": "https://localhost:8080/",
          "height": 35
        }
      },
      "source": [
        "%ls /content"
      ],
      "execution_count": 0,
      "outputs": [
        {
          "output_type": "stream",
          "text": [
            "\u001b[0m\u001b[01;34mLeafData\u001b[0m/  LeafFeatures.csv  \u001b[01;34msample_data\u001b[0m/\n"
          ],
          "name": "stdout"
        }
      ]
    },
    {
      "cell_type": "code",
      "metadata": {
        "id": "4GcUKaAIlVCu",
        "colab_type": "code",
        "colab": {}
      },
      "source": [
        "files.download('/content/LeafFeatures.csv')"
      ],
      "execution_count": 0,
      "outputs": []
    }
  ]
}