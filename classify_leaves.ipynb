{
 "cells": [
  {
   "cell_type": "code",
   "execution_count": 1,
   "metadata": {},
   "outputs": [],
   "source": [
    "import pandas as pd\n",
    "import numpy as np\n",
    "import os\n",
    "from pprint import pprint\n",
    "\n",
    "from sklearn.svm import SVC\n",
    "from sklearn import metrics\n",
    "from sklearn.base import BaseEstimator, TransformerMixin\n",
    "from sklearn.model_selection import cross_val_score\n",
    "from sklearn.model_selection import train_test_split\n",
    "from sklearn.pipeline import Pipeline\n",
    "from sklearn.ensemble import RandomForestClassifier\n",
    "from sklearn.cluster import KMeans\n",
    "from sklearn.metrics import confusion_matrix\n",
    "import matplotlib.pyplot as plt"
   ]
  },
  {
   "cell_type": "code",
   "execution_count": 4,
   "metadata": {},
   "outputs": [],
   "source": [
    "BASE_PATH = '/media/Education/BTech/S8/Projects/Project/Data'\n",
    "DATA_FILE = 'LeafFeaturesFull.csv'\n",
    "\n",
    "FILE_PATH = os.path.join(BASE_PATH, DATA_FILE)"
   ]
  },
  {
   "cell_type": "code",
   "execution_count": 5,
   "metadata": {},
   "outputs": [
    {
     "data": {
      "text/html": [
       "<div>\n",
       "<style scoped>\n",
       "    .dataframe tbody tr th:only-of-type {\n",
       "        vertical-align: middle;\n",
       "    }\n",
       "\n",
       "    .dataframe tbody tr th {\n",
       "        vertical-align: top;\n",
       "    }\n",
       "\n",
       "    .dataframe thead th {\n",
       "        text-align: right;\n",
       "    }\n",
       "</style>\n",
       "<table border=\"1\" class=\"dataframe\">\n",
       "  <thead>\n",
       "    <tr style=\"text-align: right;\">\n",
       "      <th></th>\n",
       "      <th>leafid</th>\n",
       "      <th>area</th>\n",
       "      <th>perimeter</th>\n",
       "      <th>physiological_length</th>\n",
       "      <th>physiological_width</th>\n",
       "      <th>aspect_ratio</th>\n",
       "      <th>rectangularity</th>\n",
       "      <th>circularity</th>\n",
       "      <th>mean_r</th>\n",
       "      <th>mean_g</th>\n",
       "      <th>mean_b</th>\n",
       "      <th>stddev_r</th>\n",
       "      <th>stddev_g</th>\n",
       "      <th>stddev_b</th>\n",
       "      <th>contrast</th>\n",
       "      <th>correlation</th>\n",
       "      <th>inverse_difference_moments</th>\n",
       "      <th>entropy</th>\n",
       "      <th>label</th>\n",
       "    </tr>\n",
       "  </thead>\n",
       "  <tbody>\n",
       "    <tr>\n",
       "      <th>0</th>\n",
       "      <td>l13nr041.tif</td>\n",
       "      <td>212434.0</td>\n",
       "      <td>2147.630716</td>\n",
       "      <td>507</td>\n",
       "      <td>787</td>\n",
       "      <td>0.644219</td>\n",
       "      <td>1.878273</td>\n",
       "      <td>21.711768</td>\n",
       "      <td>205.203949</td>\n",
       "      <td>198.449554</td>\n",
       "      <td>182.106360</td>\n",
       "      <td>75.035519</td>\n",
       "      <td>80.454618</td>\n",
       "      <td>107.955230</td>\n",
       "      <td>48.014415</td>\n",
       "      <td>0.996364</td>\n",
       "      <td>0.440747</td>\n",
       "      <td>8.533301</td>\n",
       "      <td>leaf13</td>\n",
       "    </tr>\n",
       "    <tr>\n",
       "      <th>1</th>\n",
       "      <td>l13nr039.tif</td>\n",
       "      <td>588228.5</td>\n",
       "      <td>3411.558769</td>\n",
       "      <td>938</td>\n",
       "      <td>1111</td>\n",
       "      <td>0.844284</td>\n",
       "      <td>1.771621</td>\n",
       "      <td>19.786075</td>\n",
       "      <td>178.481571</td>\n",
       "      <td>199.651422</td>\n",
       "      <td>149.900627</td>\n",
       "      <td>98.256304</td>\n",
       "      <td>80.485369</td>\n",
       "      <td>117.653037</td>\n",
       "      <td>41.486664</td>\n",
       "      <td>0.996943</td>\n",
       "      <td>0.456699</td>\n",
       "      <td>8.548801</td>\n",
       "      <td>leaf13</td>\n",
       "    </tr>\n",
       "    <tr>\n",
       "      <th>2</th>\n",
       "      <td>l13nr018.tif</td>\n",
       "      <td>273327.5</td>\n",
       "      <td>2322.324149</td>\n",
       "      <td>615</td>\n",
       "      <td>798</td>\n",
       "      <td>0.770677</td>\n",
       "      <td>1.795538</td>\n",
       "      <td>19.731602</td>\n",
       "      <td>194.291568</td>\n",
       "      <td>204.696105</td>\n",
       "      <td>154.159374</td>\n",
       "      <td>89.705615</td>\n",
       "      <td>76.966208</td>\n",
       "      <td>118.547042</td>\n",
       "      <td>40.702510</td>\n",
       "      <td>0.996787</td>\n",
       "      <td>0.464026</td>\n",
       "      <td>8.228020</td>\n",
       "      <td>leaf13</td>\n",
       "    </tr>\n",
       "    <tr>\n",
       "      <th>3</th>\n",
       "      <td>l13nr044.tif</td>\n",
       "      <td>217065.0</td>\n",
       "      <td>1986.625667</td>\n",
       "      <td>536</td>\n",
       "      <td>703</td>\n",
       "      <td>0.762447</td>\n",
       "      <td>1.735922</td>\n",
       "      <td>18.182026</td>\n",
       "      <td>189.931495</td>\n",
       "      <td>205.169950</td>\n",
       "      <td>141.331804</td>\n",
       "      <td>92.544960</td>\n",
       "      <td>76.927751</td>\n",
       "      <td>119.668945</td>\n",
       "      <td>44.818226</td>\n",
       "      <td>0.996362</td>\n",
       "      <td>0.464579</td>\n",
       "      <td>8.185278</td>\n",
       "      <td>leaf13</td>\n",
       "    </tr>\n",
       "    <tr>\n",
       "      <th>4</th>\n",
       "      <td>l13nr072.tif</td>\n",
       "      <td>456021.0</td>\n",
       "      <td>2956.723209</td>\n",
       "      <td>729</td>\n",
       "      <td>1061</td>\n",
       "      <td>0.687088</td>\n",
       "      <td>1.696126</td>\n",
       "      <td>19.170635</td>\n",
       "      <td>185.608041</td>\n",
       "      <td>202.900465</td>\n",
       "      <td>157.068775</td>\n",
       "      <td>93.326375</td>\n",
       "      <td>74.288455</td>\n",
       "      <td>115.498335</td>\n",
       "      <td>39.854965</td>\n",
       "      <td>0.996732</td>\n",
       "      <td>0.449347</td>\n",
       "      <td>8.695268</td>\n",
       "      <td>leaf13</td>\n",
       "    </tr>\n",
       "  </tbody>\n",
       "</table>\n",
       "</div>"
      ],
      "text/plain": [
       "         leafid      area    perimeter  physiological_length  \\\n",
       "0  l13nr041.tif  212434.0  2147.630716                   507   \n",
       "1  l13nr039.tif  588228.5  3411.558769                   938   \n",
       "2  l13nr018.tif  273327.5  2322.324149                   615   \n",
       "3  l13nr044.tif  217065.0  1986.625667                   536   \n",
       "4  l13nr072.tif  456021.0  2956.723209                   729   \n",
       "\n",
       "   physiological_width  aspect_ratio  rectangularity  circularity      mean_r  \\\n",
       "0                  787      0.644219        1.878273    21.711768  205.203949   \n",
       "1                 1111      0.844284        1.771621    19.786075  178.481571   \n",
       "2                  798      0.770677        1.795538    19.731602  194.291568   \n",
       "3                  703      0.762447        1.735922    18.182026  189.931495   \n",
       "4                 1061      0.687088        1.696126    19.170635  185.608041   \n",
       "\n",
       "       mean_g      mean_b   stddev_r   stddev_g    stddev_b   contrast  \\\n",
       "0  198.449554  182.106360  75.035519  80.454618  107.955230  48.014415   \n",
       "1  199.651422  149.900627  98.256304  80.485369  117.653037  41.486664   \n",
       "2  204.696105  154.159374  89.705615  76.966208  118.547042  40.702510   \n",
       "3  205.169950  141.331804  92.544960  76.927751  119.668945  44.818226   \n",
       "4  202.900465  157.068775  93.326375  74.288455  115.498335  39.854965   \n",
       "\n",
       "   correlation  inverse_difference_moments   entropy   label  \n",
       "0     0.996364                    0.440747  8.533301  leaf13  \n",
       "1     0.996943                    0.456699  8.548801  leaf13  \n",
       "2     0.996787                    0.464026  8.228020  leaf13  \n",
       "3     0.996362                    0.464579  8.185278  leaf13  \n",
       "4     0.996732                    0.449347  8.695268  leaf13  "
      ]
     },
     "execution_count": 5,
     "metadata": {},
     "output_type": "execute_result"
    }
   ],
   "source": [
    "leaf_data = pd.read_csv(FILE_PATH)\n",
    "\n",
    "train_set, test_set = train_test_split(leaf_data, test_size=0.2, random_state=42)\n",
    "leaf_data.head()"
   ]
  },
  {
   "cell_type": "code",
   "execution_count": 6,
   "metadata": {},
   "outputs": [],
   "source": [
    "class DataFrameSelector(BaseEstimator, TransformerMixin):\n",
    "    def __init__(self, attribute_names):\n",
    "        self.attribute_names = attribute_names\n",
    "    def fit(self, X, y=None):\n",
    "        return self\n",
    "    def transform(self, X):\n",
    "        return X[self.attribute_names]"
   ]
  },
  {
   "cell_type": "code",
   "execution_count": 8,
   "metadata": {
    "scrolled": true
   },
   "outputs": [],
   "source": [
    "to_plot, _ = train_test_split(train_set,test_size=0.7, random_state=42)\n",
    "to_plot.to_csv('small_set.csv', index=False)"
   ]
  },
  {
   "cell_type": "code",
   "execution_count": 9,
   "metadata": {},
   "outputs": [],
   "source": [
    "preprocess_pipeline = Pipeline([\n",
    "        (\"select_features\", DataFrameSelector([\"area\",\"perimeter\",\"physiological_width\",\"physiological_length\",\"rectangularity\",\"aspect_ratio\",\"circularity\",\"contrast\",\"correlation\",\"mean_r\",\"mean_g\",\"mean_b\",\"stddev_r\",\"stddev_g\",\"stddev_b\",\"entropy\",\"inverse_difference_moments\"])),\n",
    "])"
   ]
  },
  {
   "cell_type": "code",
   "execution_count": 10,
   "metadata": {
    "scrolled": true
   },
   "outputs": [],
   "source": [
    "X_train = preprocess_pipeline.fit_transform(train_set)\n",
    "y_train = train_set[\"label\"]"
   ]
  },
  {
   "cell_type": "code",
   "execution_count": 11,
   "metadata": {},
   "outputs": [
    {
     "data": {
      "text/plain": [
       "SVC(C=100, break_ties=False, cache_size=200, class_weight=None, coef0=0.0,\n",
       "    decision_function_shape='ovo', degree=3, gamma=0.0001, kernel='rbf',\n",
       "    max_iter=-1, probability=False, random_state=None, shrinking=True,\n",
       "    tol=0.001, verbose=False)"
      ]
     },
     "execution_count": 11,
     "metadata": {},
     "output_type": "execute_result"
    }
   ],
   "source": [
    "svm_clf = SVC(gamma=0.0001, C=100, decision_function_shape='ovo')\n",
    "svm_clf.fit(X_train, y_train)"
   ]
  },
  {
   "cell_type": "code",
   "execution_count": 12,
   "metadata": {},
   "outputs": [],
   "source": [
    "X_test = preprocess_pipeline.transform(test_set)\n",
    "y_test = test_set[\"label\"]\n",
    "y_pred = svm_clf.predict(X_test)"
   ]
  },
  {
   "cell_type": "code",
   "execution_count": 27,
   "metadata": {},
   "outputs": [
    {
     "name": "stdout",
     "output_type": "stream",
     "text": [
      "           area     perimeter  physiological_width  physiological_length  \\\n",
      "1089   694761.0   3932.266483                 1541                   824   \n",
      "1103   470203.0   2783.316137                 1059                   669   \n",
      "739   1985580.5  21782.323728                 2799                  1650   \n",
      "140   1104910.0   6323.438049                 1808                   997   \n",
      "1018   403509.0   2848.851059                  848                   752   \n",
      "...         ...           ...                  ...                   ...   \n",
      "67     593073.0   3347.825794                 1087                   946   \n",
      "336    642351.5   5185.504073                 1770                   893   \n",
      "429    831887.5   4194.872478                 1569                   840   \n",
      "12     328377.0   2432.591172                  766                   720   \n",
      "1034   529824.0   3103.904883                  941                   858   \n",
      "\n",
      "      rectangularity  aspect_ratio  circularity   contrast  correlation  \\\n",
      "1089        1.827656      0.534718    22.256171  51.210976     0.996906   \n",
      "1103        1.506734      0.631728    16.475541  68.506383     0.995666   \n",
      "739         2.325944      0.589496   238.957638  63.717808     0.996065   \n",
      "140         1.631423      0.551438    36.189254  99.965701     0.993669   \n",
      "1018        1.580376      0.886792    20.113436  56.926050     0.996611   \n",
      "...              ...           ...          ...        ...          ...   \n",
      "67          1.733854      0.870285    18.898074  43.555039     0.996634   \n",
      "336         2.460662      0.504520    41.860963  36.506886     0.997564   \n",
      "429         1.584301      0.535373    21.153047  54.938732     0.996352   \n",
      "12          1.679533      0.939948    18.020445  46.340030     0.996572   \n",
      "1034        1.523861      0.911796    18.183822  52.587273     0.996780   \n",
      "\n",
      "          mean_r      mean_g      mean_b    stddev_r   stddev_g    stddev_b  \\\n",
      "1089  173.608504  176.321469  142.281793   91.621250  88.440568  117.694304   \n",
      "1103  173.287859  176.751520  138.796627   89.975667  87.955610  114.783202   \n",
      "739   170.742236  184.323360  126.125463   97.344033  86.974893  121.583926   \n",
      "140   171.917035  172.230396  100.129822   87.589734  87.133942  108.725955   \n",
      "1018  178.318255  178.601840  130.811701   90.060986  90.471149  121.044970   \n",
      "...          ...         ...         ...         ...        ...         ...   \n",
      "67    163.014416  201.992426  143.420787  105.166641  77.722858  120.019512   \n",
      "336   180.864519  192.583052  143.782038   95.051024  83.306547  120.973393   \n",
      "429   153.401036  169.176228  115.352438   91.679855  82.349362  116.806645   \n",
      "12    188.605131  202.786423  155.585975   95.041238  80.004340  117.630935   \n",
      "1034  167.078212  177.412701  102.665863   94.031473  88.938156  115.743337   \n",
      "\n",
      "       entropy  inverse_difference_moments  \n",
      "1089  9.201479                    0.402715  \n",
      "1103  9.488668                    0.387230  \n",
      "739   9.050962                    0.428106  \n",
      "140   9.723092                    0.360262  \n",
      "1018  8.936379                    0.411862  \n",
      "...        ...                         ...  \n",
      "67    8.513184                    0.452748  \n",
      "336   8.396829                    0.451732  \n",
      "429   9.692746                    0.378424  \n",
      "12    8.203478                    0.458769  \n",
      "1034  8.979983                    0.409100  \n",
      "\n",
      "[225 rows x 17 columns]\n"
     ]
    }
   ],
   "source": [
    "print(X_test)"
   ]
  },
  {
   "cell_type": "code",
   "execution_count": 13,
   "metadata": {},
   "outputs": [
    {
     "data": {
      "text/plain": [
       "0.09222222222222223"
      ]
     },
     "execution_count": 13,
     "metadata": {},
     "output_type": "execute_result"
    }
   ],
   "source": [
    "svm_scores = cross_val_score(svm_clf, X_train, y_train, cv=10)\n",
    "svm_scores.mean()"
   ]
  },
  {
   "cell_type": "code",
   "execution_count": 12,
   "metadata": {},
   "outputs": [
    {
     "data": {
      "text/plain": [
       "array([[ 0,  0,  0,  0,  0,  0,  0,  0,  0,  0,  0,  0,  0,  0, 17],\n",
       "       [ 0,  0,  0,  0,  0,  0,  0,  0,  0,  0,  0,  0,  0,  0, 14],\n",
       "       [ 0,  0,  0,  0,  0,  0,  0,  0,  0,  0,  0,  0,  0,  0, 19],\n",
       "       [ 0,  0,  0,  0,  0,  0,  0,  0,  0,  0,  0,  0,  0,  0, 17],\n",
       "       [ 0,  0,  0,  0,  1,  0,  0,  0,  0,  0,  0,  0,  0,  0, 17],\n",
       "       [ 0,  0,  0,  0,  0,  0,  0,  0,  0,  0,  0,  0,  0,  0, 17],\n",
       "       [ 0,  0,  0,  0,  0,  0,  1,  0,  0,  0,  0,  0,  0,  0, 12],\n",
       "       [ 0,  0,  0,  0,  0,  0,  0,  0,  0,  0,  0,  0,  0,  0, 13],\n",
       "       [ 0,  0,  0,  0,  0,  0,  0,  0,  0,  0,  0,  0,  0,  0,  9],\n",
       "       [ 0,  0,  0,  0,  0,  0,  0,  0,  0,  0,  0,  0,  0,  0, 16],\n",
       "       [ 0,  0,  0,  0,  0,  0,  0,  0,  0,  0,  0,  0,  0,  0, 15],\n",
       "       [ 0,  0,  0,  0,  1,  0,  0,  0,  0,  0,  0,  0,  0,  0, 16],\n",
       "       [ 0,  0,  0,  0,  0,  0,  0,  0,  0,  0,  0,  0,  0,  0, 13],\n",
       "       [ 0,  0,  0,  0,  0,  0,  0,  0,  0,  0,  0,  0,  0,  1, 17],\n",
       "       [ 0,  0,  0,  0,  0,  0,  0,  0,  0,  0,  0,  0,  0,  0,  9]])"
      ]
     },
     "execution_count": 12,
     "metadata": {},
     "output_type": "execute_result"
    }
   ],
   "source": [
    "accuracy = svm_clf.score(X_test,y_test)\n",
    "cm = confusion_matrix(y_test, y_pred)\n",
    "cm"
   ]
  },
  {
   "cell_type": "code",
   "execution_count": 14,
   "metadata": {},
   "outputs": [
    {
     "data": {
      "text/plain": [
       "0.9177777777777779"
      ]
     },
     "execution_count": 14,
     "metadata": {},
     "output_type": "execute_result"
    }
   ],
   "source": [
    "forest_clf = RandomForestClassifier(n_estimators=100, random_state=42)\n",
    "forest_clf.fit(X_train, y_train)\n",
    "forest_scores = cross_val_score(forest_clf, X_train, y_train, cv=10)\n",
    "\n",
    "forest_pred = forest_clf.predict(X_test)\n",
    "forest_scores.mean()"
   ]
  },
  {
   "cell_type": "code",
   "execution_count": 15,
   "metadata": {},
   "outputs": [
    {
     "data": {
      "text/plain": [
       "array([[16,  0,  0,  0,  0,  0,  0,  0,  1,  0,  0,  0,  0,  0,  0],\n",
       "       [ 0, 14,  0,  0,  0,  0,  0,  0,  0,  0,  0,  0,  0,  0,  0],\n",
       "       [ 1,  0, 18,  0,  0,  0,  0,  0,  0,  0,  0,  0,  0,  0,  0],\n",
       "       [ 0,  0,  0, 16,  0,  0,  0,  0,  0,  0,  0,  0,  0,  1,  0],\n",
       "       [ 0,  0,  0,  3, 15,  0,  0,  0,  0,  0,  0,  0,  0,  0,  0],\n",
       "       [ 0,  0,  0,  0,  0, 17,  0,  0,  0,  0,  0,  0,  0,  0,  0],\n",
       "       [ 0,  0,  0,  0,  0,  0, 13,  0,  0,  0,  0,  0,  0,  0,  0],\n",
       "       [ 0,  0,  0,  0,  0,  0,  0, 13,  0,  0,  0,  0,  0,  0,  0],\n",
       "       [ 1,  0,  0,  0,  0,  0,  0,  0,  7,  0,  0,  0,  0,  0,  1],\n",
       "       [ 0,  0,  0,  0,  0,  0,  0,  0,  0, 16,  0,  0,  0,  0,  0],\n",
       "       [ 0,  0,  0,  0,  0,  0,  0,  0,  0,  0, 15,  0,  0,  0,  0],\n",
       "       [ 0,  0,  0,  0,  0,  1,  0,  0,  0,  0,  0, 16,  0,  0,  0],\n",
       "       [ 0,  0,  0,  0,  0,  0,  0,  0,  0,  0,  0,  0, 13,  0,  0],\n",
       "       [ 0,  0,  0,  4,  0,  0,  0,  0,  0,  1,  0,  0,  0, 13,  0],\n",
       "       [ 1,  0,  0,  0,  0,  0,  1,  0,  1,  0,  0,  0,  0,  0,  6]])"
      ]
     },
     "execution_count": 15,
     "metadata": {},
     "output_type": "execute_result"
    }
   ],
   "source": [
    "cm = confusion_matrix(y_test, forest_pred)\n",
    "cm"
   ]
  },
  {
   "cell_type": "code",
   "execution_count": 15,
   "metadata": {},
   "outputs": [
    {
     "name": "stdout",
     "output_type": "stream",
     "text": [
      "kprred\n"
     ]
    },
    {
     "data": {
      "text/plain": [
       "array([ 2,  4,  9,  7, 10, 10,  4, 10,  4,  5, 14, 10, 13, 10, 10,  1, 12,\n",
       "       12,  2,  6,  4,  4,  4,  4,  8, 12,  4,  2,  2,  2,  6, 14, 10,  6,\n",
       "       13,  0,  1, 14,  4,  6, 10,  0,  8, 14, 14,  8,  8, 12,  0, 14, 13,\n",
       "       10,  0,  0,  0,  4,  6, 10, 13,  2,  4,  0,  0, 12,  7, 12,  4,  8,\n",
       "        4,  8,  8,  8,  8,  1,  6,  6,  6, 12, 10, 14, 12, 14, 10, 12,  2,\n",
       "        6, 14,  2, 12,  6,  8, 12,  1,  0, 14,  2,  2,  4,  2, 12, 13,  0,\n",
       "       12,  7,  0, 14, 10,  5,  5,  4, 10, 13,  4,  4,  2,  0, 10, 14,  0,\n",
       "        0,  4,  8,  0,  8, 12, 14,  2,  6,  7,  5,  4,  7, 13,  6,  8,  2,\n",
       "       13,  0, 10, 12,  3, 14, 10,  1, 10,  4,  2,  8, 13,  2,  6, 14,  2,\n",
       "        0,  7, 14, 12,  2,  4,  4,  2,  7,  9,  0,  6,  2, 12, 10, 10,  4,\n",
       "        6,  8,  0,  6,  3, 14, 13,  2, 10, 13, 14,  0,  7,  4, 14,  4, 14,\n",
       "       11,  0, 14,  2,  8,  9,  0, 14, 12,  2,  0, 10,  7, 14, 12, 12,  2,\n",
       "        2, 12, 14, 10,  5,  0, 11,  8, 10,  8,  6,  8,  6,  2,  0,  8, 14,\n",
       "       14,  8, 10,  4], dtype=int32)"
      ]
     },
     "execution_count": 15,
     "metadata": {},
     "output_type": "execute_result"
    }
   ],
   "source": [
    "kmeans = KMeans(n_clusters=15, random_state=0).fit(X_train)\n",
    "k_pred = kmeans.predict(X_test)\n",
    "print('kprred')\n",
    "k_pred\n"
   ]
  },
  {
   "cell_type": "code",
   "execution_count": 16,
   "metadata": {},
   "outputs": [
    {
     "name": "stdout",
     "output_type": "stream",
     "text": [
      "Accuracy:0.000000\n"
     ]
    }
   ],
   "source": [
    "score = metrics.accuracy_score(y_test,kmeans.predict(X_test))\n",
    "print('Accuracy:{0:f}'.format(score))"
   ]
  },
  {
   "cell_type": "code",
   "execution_count": 17,
   "metadata": {},
   "outputs": [
    {
     "data": {
      "text/plain": [
       "array(['leaf15', 'leaf15', 'leaf10', 'leaf14', 'leaf12', 'leaf6',\n",
       "       'leaf11', 'leaf4', 'leaf15', 'leaf2', 'leaf1', 'leaf11', 'leaf2',\n",
       "       'leaf4', 'leaf13', 'leaf1', 'leaf7', 'leaf5', 'leaf3', 'leaf12',\n",
       "       'leaf1', 'leaf11', 'leaf11', 'leaf4', 'leaf1', 'leaf8', 'leaf12',\n",
       "       'leaf13', 'leaf14', 'leaf8', 'leaf1', 'leaf15', 'leaf4', 'leaf14',\n",
       "       'leaf10', 'leaf7', 'leaf1', 'leaf14', 'leaf11', 'leaf14', 'leaf11',\n",
       "       'leaf4', 'leaf12', 'leaf12', 'leaf12', 'leaf2', 'leaf3', 'leaf5',\n",
       "       'leaf13', 'leaf4', 'leaf10', 'leaf1', 'leaf11', 'leaf7', 'leaf15',\n",
       "       'leaf4', 'leaf6', 'leaf6', 'leaf10', 'leaf6', 'leaf13', 'leaf4',\n",
       "       'leaf7', 'leaf7', 'leaf9', 'leaf7', 'leaf11', 'leaf3', 'leaf14',\n",
       "       'leaf3', 'leaf6', 'leaf14', 'leaf10', 'leaf2', 'leaf9', 'leaf9',\n",
       "       'leaf12', 'leaf5', 'leaf12', 'leaf14', 'leaf5', 'leaf12', 'leaf1',\n",
       "       'leaf5', 'leaf12', 'leaf12', 'leaf11', 'leaf6', 'leaf7', 'leaf9',\n",
       "       'leaf1', 'leaf5', 'leaf1', 'leaf8', 'leaf8', 'leaf14', 'leaf12',\n",
       "       'leaf13', 'leaf8', 'leaf5', 'leaf10', 'leaf11', 'leaf5', 'leaf2',\n",
       "       'leaf4', 'leaf15', 'leaf15', 'leaf1', 'leaf10', 'leaf4', 'leaf11',\n",
       "       'leaf10', 'leaf8', 'leaf12', 'leaf14', 'leaf13', 'leaf4', 'leaf8',\n",
       "       'leaf11', 'leaf7', 'leaf6', 'leaf1', 'leaf5', 'leaf3', 'leaf13',\n",
       "       'leaf4', 'leaf3', 'leaf6', 'leaf2', 'leaf2', 'leaf6', 'leaf1',\n",
       "       'leaf1', 'leaf14', 'leaf6', 'leaf12', 'leaf2', 'leaf5', 'leaf4',\n",
       "       'leaf5', 'leaf10', 'leaf14', 'leaf11', 'leaf14', 'leaf1', 'leaf6',\n",
       "       'leaf12', 'leaf2', 'leaf14', 'leaf15', 'leaf12', 'leaf6', 'leaf14',\n",
       "       'leaf7', 'leaf1', 'leaf2', 'leaf7', 'leaf15', 'leaf15', 'leaf4',\n",
       "       'leaf12', 'leaf1', 'leaf2', 'leaf11', 'leaf12', 'leaf1', 'leaf5',\n",
       "       'leaf7', 'leaf11', 'leaf4', 'leaf14', 'leaf3', 'leaf7', 'leaf1',\n",
       "       'leaf2', 'leaf8', 'leaf10', 'leaf12', 'leaf13', 'leaf9', 'leaf14',\n",
       "       'leaf13', 'leaf9', 'leaf8', 'leaf15', 'leaf6', 'leaf8', 'leaf10',\n",
       "       'leaf13', 'leaf8', 'leaf4', 'leaf15', 'leaf10', 'leaf11', 'leaf11',\n",
       "       'leaf5', 'leaf12', 'leaf13', 'leaf15', 'leaf8', 'leaf13', 'leaf5',\n",
       "       'leaf5', 'leaf12', 'leaf14', 'leaf7', 'leaf12', 'leaf6', 'leaf10',\n",
       "       'leaf6', 'leaf10', 'leaf15', 'leaf11', 'leaf12', 'leaf3', 'leaf2',\n",
       "       'leaf9', 'leaf6', 'leaf13', 'leaf8', 'leaf13', 'leaf4', 'leaf3',\n",
       "       'leaf13', 'leaf8'], dtype=object)"
      ]
     },
     "execution_count": 17,
     "metadata": {},
     "output_type": "execute_result"
    }
   ],
   "source": [
    "forest_pred = forest_clf.predict(X_test)\n",
    "forest_pred"
   ]
  },
  {
   "cell_type": "code",
   "execution_count": 18,
   "metadata": {},
   "outputs": [
    {
     "name": "stdout",
     "output_type": "stream",
     "text": [
      "y_test\n",
      "1089    leaf15\n",
      "1103    leaf15\n",
      "739     leaf10\n",
      "140     leaf14\n",
      "1018    leaf12\n",
      "         ...  \n",
      "67      leaf13\n",
      "336      leaf8\n",
      "429      leaf1\n",
      "12      leaf13\n",
      "1034    leaf12\n",
      "Name: label, Length: 225, dtype: object\n"
     ]
    }
   ],
   "source": [
    "print('y_test')\n",
    "pprint(y_test)"
   ]
  },
  {
   "cell_type": "code",
   "execution_count": 19,
   "metadata": {},
   "outputs": [],
   "source": [
    "from sklearn.neighbors import KNeighborsClassifier "
   ]
  },
  {
   "cell_type": "code",
   "execution_count": 20,
   "metadata": {},
   "outputs": [],
   "source": [
    "knn = KNeighborsClassifier(n_neighbors = 20).fit(X_train, y_train) "
   ]
  },
  {
   "cell_type": "code",
   "execution_count": 21,
   "metadata": {},
   "outputs": [
    {
     "name": "stdout",
     "output_type": "stream",
     "text": [
      "0.26666666666666666\n"
     ]
    }
   ],
   "source": [
    "accuracy = knn.score(X_test, y_test) \n",
    "print (accuracy)"
   ]
  },
  {
   "cell_type": "code",
   "execution_count": 22,
   "metadata": {},
   "outputs": [
    {
     "data": {
      "text/plain": [
       "array([[0, 1, 0, 1, 1, 4, 0, 1, 4, 0, 0, 0, 0, 1, 4],\n",
       "       [0, 8, 0, 0, 0, 0, 0, 5, 1, 0, 0, 0, 0, 0, 0],\n",
       "       [0, 0, 5, 1, 2, 2, 3, 0, 0, 3, 0, 0, 2, 1, 0],\n",
       "       [0, 0, 3, 0, 0, 0, 1, 0, 9, 1, 0, 2, 0, 0, 1],\n",
       "       [0, 0, 1, 0, 4, 1, 1, 0, 2, 3, 0, 0, 5, 1, 0],\n",
       "       [0, 1, 2, 2, 0, 0, 1, 0, 4, 0, 0, 3, 0, 1, 3],\n",
       "       [0, 0, 0, 2, 1, 3, 4, 0, 3, 0, 0, 0, 0, 0, 0],\n",
       "       [0, 2, 0, 0, 0, 0, 1, 5, 2, 0, 0, 1, 0, 0, 2],\n",
       "       [0, 0, 0, 1, 0, 0, 0, 0, 7, 1, 0, 0, 0, 0, 0],\n",
       "       [0, 0, 6, 1, 0, 0, 1, 0, 1, 5, 0, 0, 1, 1, 0],\n",
       "       [0, 0, 0, 0, 1, 0, 0, 0, 0, 0, 9, 0, 5, 0, 0],\n",
       "       [1, 0, 0, 0, 1, 1, 2, 0, 6, 2, 0, 1, 1, 1, 1],\n",
       "       [0, 0, 0, 0, 1, 0, 0, 0, 0, 0, 3, 0, 9, 0, 0],\n",
       "       [0, 0, 1, 2, 0, 0, 2, 0, 3, 1, 1, 4, 1, 2, 1],\n",
       "       [0, 0, 0, 0, 0, 3, 1, 1, 3, 0, 0, 0, 0, 0, 1]])"
      ]
     },
     "execution_count": 22,
     "metadata": {},
     "output_type": "execute_result"
    }
   ],
   "source": [
    "knn_predictions = knn.predict(X_test)  \n",
    "cm = confusion_matrix(y_test, knn_predictions)\n",
    "cm"
   ]
  },
  {
   "cell_type": "code",
   "execution_count": 23,
   "metadata": {},
   "outputs": [],
   "source": [
    "from sklearn.naive_bayes import GaussianNB"
   ]
  },
  {
   "cell_type": "code",
   "execution_count": 24,
   "metadata": {},
   "outputs": [],
   "source": [
    "gnb = GaussianNB().fit(X_train, y_train) \n",
    "gnb_predictions = gnb.predict(X_test)"
   ]
  },
  {
   "cell_type": "code",
   "execution_count": 25,
   "metadata": {},
   "outputs": [
    {
     "name": "stdout",
     "output_type": "stream",
     "text": [
      "0.5822222222222222\n"
     ]
    }
   ],
   "source": [
    "accuracy = gnb.score(X_test, y_test) \n",
    "print(accuracy)"
   ]
  },
  {
   "cell_type": "code",
   "execution_count": 26,
   "metadata": {
    "scrolled": true
   },
   "outputs": [
    {
     "data": {
      "text/plain": [
       "array([[ 0,  0,  2,  0,  0,  0,  1,  0,  7,  0,  0,  0,  0,  0,  7],\n",
       "       [ 0, 13,  0,  0,  0,  1,  0,  0,  0,  0,  0,  0,  0,  0,  0],\n",
       "       [ 0,  0, 13,  0,  0,  0,  3,  0,  0,  0,  3,  0,  0,  0,  0],\n",
       "       [ 0,  0,  0,  8,  1,  0,  1,  0,  1,  0,  0,  0,  0,  5,  1],\n",
       "       [ 0,  0,  0,  2, 11,  0,  0,  0,  0,  0,  0,  0,  0,  5,  0],\n",
       "       [ 0,  1,  0,  0,  0, 11,  1,  0,  2,  0,  0,  1,  0,  0,  1],\n",
       "       [ 0,  0,  1,  0,  0,  0,  8,  0,  4,  0,  0,  0,  0,  0,  0],\n",
       "       [ 0,  0,  0,  0,  0,  0,  0, 13,  0,  0,  0,  0,  0,  0,  0],\n",
       "       [ 0,  0,  0,  0,  1,  0,  0,  0,  6,  0,  0,  0,  0,  0,  2],\n",
       "       [ 0,  0,  4,  0,  2,  0,  0,  0,  3,  7,  0,  0,  0,  0,  0],\n",
       "       [ 0,  0,  1,  0,  0,  0,  0,  0,  0,  0, 14,  0,  0,  0,  0],\n",
       "       [ 0,  0,  0,  0,  0,  0, 10,  0,  1,  0,  0,  3,  0,  0,  3],\n",
       "       [ 0,  0,  0,  0,  0,  0,  0,  0,  0,  1,  0,  0, 12,  0,  0],\n",
       "       [ 1,  0,  0,  3,  2,  0,  1,  0,  1,  0,  1,  0,  0,  8,  1],\n",
       "       [ 0,  0,  0,  0,  0,  0,  1,  0,  4,  0,  0,  0,  0,  0,  4]])"
      ]
     },
     "execution_count": 26,
     "metadata": {},
     "output_type": "execute_result"
    }
   ],
   "source": [
    "cm = confusion_matrix(y_test, gnb_predictions) \n",
    "cm"
   ]
  },
  {
   "cell_type": "code",
   "execution_count": 16,
   "metadata": {},
   "outputs": [],
   "source": [
    "from sklearn.model_selection import RandomizedSearchCV\n",
    "# Number of trees in random forest\n",
    "n_estimators = [100, 200, 300]\n",
    "# Number of features to consider at every split\n",
    "max_features = ['auto', 'sqrt']\n",
    "# Maximum number of levels in tree\n",
    "# Minimum number of samples required to split a node\n",
    "min_samples_split = [2, 5, 10]\n",
    "# Minimum number of samples required at each leaf node\n",
    "min_samples_leaf = [1, 2, 4]\n",
    "# Method of selecting samples for training each tree\n",
    "bootstrap = [True, False]\n",
    "# Create the random grid\n",
    "random_grid = {'n_estimators': n_estimators,\n",
    "               'max_features': max_features,\n",
    "               'min_samples_split': min_samples_split,\n",
    "               'min_samples_leaf': min_samples_leaf,\n",
    "               'bootstrap': bootstrap}"
   ]
  },
  {
   "cell_type": "code",
   "execution_count": 17,
   "metadata": {
    "scrolled": true
   },
   "outputs": [
    {
     "name": "stdout",
     "output_type": "stream",
     "text": [
      "Fitting 3 folds for each of 100 candidates, totalling 300 fits\n"
     ]
    },
    {
     "name": "stderr",
     "output_type": "stream",
     "text": [
      "[Parallel(n_jobs=-1)]: Using backend LokyBackend with 4 concurrent workers.\n",
      "[Parallel(n_jobs=-1)]: Done  33 tasks      | elapsed:   17.6s\n",
      "[Parallel(n_jobs=-1)]: Done 154 tasks      | elapsed:  1.2min\n",
      "[Parallel(n_jobs=-1)]: Done 300 out of 300 | elapsed:  2.4min finished\n"
     ]
    },
    {
     "data": {
      "text/plain": [
       "RandomizedSearchCV(cv=3, error_score=nan,\n",
       "                   estimator=RandomForestClassifier(bootstrap=True,\n",
       "                                                    ccp_alpha=0.0,\n",
       "                                                    class_weight=None,\n",
       "                                                    criterion='gini',\n",
       "                                                    max_depth=None,\n",
       "                                                    max_features='auto',\n",
       "                                                    max_leaf_nodes=None,\n",
       "                                                    max_samples=None,\n",
       "                                                    min_impurity_decrease=0.0,\n",
       "                                                    min_impurity_split=None,\n",
       "                                                    min_samples_leaf=1,\n",
       "                                                    min_samples_split=2,\n",
       "                                                    min_weight_fraction_leaf=0.0,\n",
       "                                                    n_estimators=100,\n",
       "                                                    n_jobs...\n",
       "                                                    oob_score=False,\n",
       "                                                    random_state=42, verbose=0,\n",
       "                                                    warm_start=False),\n",
       "                   iid='deprecated', n_iter=100, n_jobs=-1,\n",
       "                   param_distributions={'bootstrap': [True, False],\n",
       "                                        'max_features': ['auto', 'sqrt'],\n",
       "                                        'min_samples_leaf': [1, 2, 4],\n",
       "                                        'min_samples_split': [2, 5, 10],\n",
       "                                        'n_estimators': [100, 200, 300]},\n",
       "                   pre_dispatch='2*n_jobs', random_state=42, refit=True,\n",
       "                   return_train_score=False, scoring=None, verbose=2)"
      ]
     },
     "execution_count": 17,
     "metadata": {},
     "output_type": "execute_result"
    }
   ],
   "source": [
    "rf_random = RandomizedSearchCV(estimator = forest_clf, param_distributions = random_grid, n_iter = 100, cv = 3, verbose=2, random_state=42, n_jobs = -1)\n",
    "# Fit the random search model\n",
    "rf_random.fit(X_train, y_train)"
   ]
  },
  {
   "cell_type": "code",
   "execution_count": 18,
   "metadata": {},
   "outputs": [],
   "source": [
    "best_forest = rf_random.best_estimator_"
   ]
  },
  {
   "cell_type": "code",
   "execution_count": 20,
   "metadata": {},
   "outputs": [
    {
     "data": {
      "text/plain": [
       "0.9222222222222223"
      ]
     },
     "execution_count": 20,
     "metadata": {},
     "output_type": "execute_result"
    }
   ],
   "source": [
    "best_forest.fit(X_train, y_train)\n",
    "forest_scores = cross_val_score(best_forest, X_train, y_train, cv=10)\n",
    "\n",
    "forest_pred = best_forest.predict(X_test)\n",
    "forest_scores.mean()\n"
   ]
  },
  {
   "cell_type": "code",
   "execution_count": 22,
   "metadata": {},
   "outputs": [
    {
     "data": {
      "text/plain": [
       "['model.joblib']"
      ]
     },
     "execution_count": 22,
     "metadata": {},
     "output_type": "execute_result"
    }
   ],
   "source": [
    "from joblib import dump\n",
    "dump(best_forest, 'model.joblib')"
   ]
  },
  {
   "cell_type": "markdown",
   "metadata": {},
   "source": [
    "cm = confusion_matrix(y_test, forest_pred)\n",
    "cm"
   ]
  },
  {
   "cell_type": "code",
   "execution_count": 62,
   "metadata": {},
   "outputs": [
    {
     "data": {
      "text/plain": [
       "0.9190010681677347"
      ]
     },
     "execution_count": 62,
     "metadata": {},
     "output_type": "execute_result"
    }
   ],
   "source": [
    "from sklearn.metrics import f1_score, precision_score, recall_score\n",
    "f1_score(y_test, forest_pred, average=\"macro\")"
   ]
  },
  {
   "cell_type": "code",
   "execution_count": 61,
   "metadata": {},
   "outputs": [
    {
     "data": {
      "text/plain": [
       "0.927696122944474"
      ]
     },
     "execution_count": 61,
     "metadata": {},
     "output_type": "execute_result"
    }
   ],
   "source": [
    "precision_score(y_test, forest_pred, average=\"macro\")"
   ]
  },
  {
   "cell_type": "code",
   "execution_count": 60,
   "metadata": {},
   "outputs": [
    {
     "data": {
      "text/plain": [
       "0.9180598555211558"
      ]
     },
     "execution_count": 60,
     "metadata": {},
     "output_type": "execute_result"
    }
   ],
   "source": [
    "recall_score(y_test, forest_pred, average=\"macro\")"
   ]
  }
 ],
 "metadata": {
  "kernelspec": {
   "display_name": "Python 3",
   "language": "python",
   "name": "python3"
  },
  "language_info": {
   "codemirror_mode": {
    "name": "ipython",
    "version": 3
   },
   "file_extension": ".py",
   "mimetype": "text/x-python",
   "name": "python",
   "nbconvert_exporter": "python",
   "pygments_lexer": "ipython3",
   "version": "3.6.5"
  }
 },
 "nbformat": 4,
 "nbformat_minor": 2
}
